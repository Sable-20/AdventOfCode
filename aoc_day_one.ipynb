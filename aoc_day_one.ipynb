{
  "nbformat": 4,
  "nbformat_minor": 0,
  "metadata": {
    "colab": {
      "provenance": [],
      "authorship_tag": "ABX9TyOejjJ8BoqyUX49spQLlFJ5",
      "include_colab_link": true
    },
    "kernelspec": {
      "name": "python3",
      "display_name": "Python 3"
    },
    "language_info": {
      "name": "python"
    }
  },
  "cells": [
    {
      "cell_type": "markdown",
      "metadata": {
        "id": "view-in-github",
        "colab_type": "text"
      },
      "source": [
        "<a href=\"https://colab.research.google.com/github/Sable-20/AdventOfCode/blob/main/aoc_day_one.ipynb\" target=\"_parent\"><img src=\"https://colab.research.google.com/assets/colab-badge.svg\" alt=\"Open In Colab\"/></a>"
      ]
    },
    {
      "cell_type": "markdown",
      "source": [
        "# Instructions\n",
        "\n",
        "--- Day 1: Historian Hysteria ---\n",
        "\n",
        "The Chief Historian is always present for the big Christmas sleigh launch, but nobody has seen him in months! Last anyone heard, he was visiting locations that are historically significant to the North Pole; a group of Senior Historians has asked you to accompany them as they check the places they think he was most likely to visit.\n",
        "\n",
        "As each location is checked, they will mark it on their list with a star. They figure the Chief Historian must be in one of the first fifty places they'll look, so in order to save Christmas, you need to help them get fifty stars on their list before Santa takes off on December 25th.\n",
        "\n",
        "Collect stars by solving puzzles. Two puzzles will be made available on each day in the Advent calendar; the second puzzle is unlocked when you complete the first. Each puzzle grants one star. Good luck!\n",
        "\n",
        "You haven't even left yet and the group of Elvish Senior Historians has already hit a problem: their list of locations to check is currently empty. Eventually, someone decides that the best place to check first would be the Chief Historian's office.\n",
        "\n",
        "Upon pouring into the office, everyone confirms that the Chief Historian is indeed nowhere to be found. Instead, the Elves discover an assortment of notes and lists of historically significant locations! This seems to be the planning the Chief Historian was doing before he left. Perhaps these notes can be used to determine which locations to search?\n",
        "\n",
        "Throughout the Chief's office, the historically significant locations are listed not by name but by a unique number called the location ID. To make sure they don't miss anything, The Historians split into two groups, each searching the office and trying to create their own complete list of location IDs.\n",
        "\n",
        "There's just one problem: by holding the two lists up side by side (your puzzle input), it quickly becomes clear that the lists aren't very similar. Maybe you can help The Historians reconcile their lists?\n",
        "\n",
        "For example:\n",
        "\n",
        "3   4\n",
        "4   3\n",
        "2   5\n",
        "1   3\n",
        "3   9\n",
        "3   3\n",
        "\n",
        "Maybe the lists are only off by a small amount! To find out, pair up the numbers and measure how far apart they are. Pair up the smallest number in the left list with the smallest number in the right list, then the second-smallest left number with the second-smallest right number, and so on.\n",
        "\n",
        "Within each pair, figure out how far apart the two numbers are; you'll need to add up all of those distances. For example, if you pair up a 3 from the left list with a 7 from the right list, the distance apart is 4; if you pair up a 9 with a 3, the distance apart is 6.\n",
        "\n",
        "In the example list above, the pairs and distances would be as follows:\n",
        "\n",
        "    The smallest number in the left list is 1, and the smallest number in the right list is 3. The distance between them is 2.\n",
        "    The second-smallest number in the left list is 2, and the second-smallest number in the right list is another 3. The distance between them is 1.\n",
        "    The third-smallest number in both lists is 3, so the distance between them is 0.\n",
        "    The next numbers to pair up are 3 and 4, a distance of 1.\n",
        "    The fifth-smallest numbers in each list are 3 and 5, a distance of 2.\n",
        "    Finally, the largest number in the left list is 4, while the largest number in the right list is 9; these are a distance 5 apart.\n",
        "\n",
        "To find the total distance between the left list and the right list, add up the distances between all of the pairs you found. In the example above, this is 2 + 1 + 0 + 1 + 2 + 5, a total distance of 11!\n",
        "\n",
        "Your actual left and right lists contain many location IDs. What is the total distance between your lists?\n"
      ],
      "metadata": {
        "id": "mx3mOuC622Wk"
      }
    },
    {
      "cell_type": "code",
      "source": [
        "import sys\n",
        "import os\n",
        "from collections import Counter\n",
        "\n",
        "def read_from_file(file_path):\n",
        "    with open(file_path, 'r') as file:\n",
        "        return file.read()\n",
        "\n",
        "file_path = 'input'\n",
        "file_content = read_from_file(file_path)\n",
        "\n",
        "# Separating the numbers in left and right column\n",
        "def split_left_right_columns(file_content):\n",
        "    left = []\n",
        "    right = []\n",
        "    for line in file_content.split('\\n'):\n",
        "        if line.strip():\n",
        "            parts = line.split()\n",
        "            left.append(int(parts[0]))\n",
        "            right.append(int(parts[1]))\n",
        "    return left, right\n",
        "\n",
        "left_column = split_left_right_columns(file_content)[0]\n",
        "right_column = split_left_right_columns(file_content)[1]\n",
        "\n",
        "# Now we need to apply quicksort to sort columns from smaller to bigger\n",
        "def quicksort(arr):\n",
        "    if len(arr) <= 1:\n",
        "        return arr\n",
        "    pivot = arr[len(arr) // 2]\n",
        "    left = [x for x in arr if x < pivot]\n",
        "    middle = [x for x in arr if x == pivot]\n",
        "    right = [x for x in arr if x > pivot]\n",
        "    return quicksort(left) + middle + quicksort(right)\n",
        "\n",
        "sorted_left_column = quicksort(left_column)\n",
        "sorted_right_column = quicksort(right_column)\n",
        "\n",
        "with open(\"input\", \"r\") as file:\n",
        "    list_a, list_b = map(sorted, zip(*(map(int, line.split()) for line in file)))\n",
        "\n",
        "counter_b = Counter(list_b)\n",
        "\n",
        "similiarity_score = sum(a * counter_b[a] for a in list_a)\n",
        "print(f\"Similarity score {similiarity_score}\")\n",
        "\n",
        "all_pairs = []\n",
        "# Now we substract the paired numbers\n",
        "for pair in zip(sorted_left_column, sorted_right_column):\n",
        "    all_pairs.append(abs(pair[1] - pair[0]))\n",
        "\n",
        "# Now we sum all the differences\n",
        "result = sum(all_pairs)\n",
        "print(result)"
      ],
      "metadata": {
        "colab": {
          "base_uri": "https://localhost:8080/"
        },
        "id": "voK2uEAx9T0g",
        "outputId": "10dedfdd-e500-4524-d20c-a68c499908c6"
      },
      "execution_count": 39,
      "outputs": [
        {
          "output_type": "stream",
          "name": "stdout",
          "text": [
            "Similarity score 22545250\n",
            "1222801\n"
          ]
        }
      ]
    }
  ]
}